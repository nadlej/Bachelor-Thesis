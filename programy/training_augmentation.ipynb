{
  "nbformat": 4,
  "nbformat_minor": 0,
  "metadata": {
    "colab": {
      "name": "training_augmentation.ipynb",
      "provenance": [],
      "collapsed_sections": []
    },
    "kernelspec": {
      "name": "python3",
      "display_name": "Python 3"
    },
    "language_info": {
      "name": "python"
    },
    "accelerator": "GPU"
  },
  "cells": [
    {
      "cell_type": "code",
      "metadata": {
        "colab": {
          "base_uri": "https://localhost:8080/"
        },
        "id": "xfxwysH_tH8U",
        "outputId": "9c89b85b-78c1-445f-933b-16774fbead08"
      },
      "source": [
        "!pip3 install pickle5\n",
        "\n",
        "import random\n",
        "import numpy as np\n",
        "import pandas as pd\n",
        "import tensorflow as tf\n",
        "import seaborn as sn\n",
        "import pickle5 as pickle\n",
        "from datetime import datetime \n",
        "from pylab import savefig\n",
        "from matplotlib import pyplot as plt\n",
        "from google.colab import drive \n",
        "from numpy import load, save\n",
        "from keras import regularizers, activations\n",
        "from keras.models import Sequential\n",
        "from keras.layers import Dense, Dropout, Flatten, Activation, Conv2D, MaxPooling2D, GlobalAveragePooling2D\n",
        "from sklearn.metrics import precision_recall_fscore_support, roc_auc_score, confusion_matrix\n",
        "from keras.utils.np_utils import to_categorical\n",
        "from tensorflow.keras.callbacks import EarlyStopping"
      ],
      "execution_count": null,
      "outputs": [
        {
          "output_type": "stream",
          "text": [
            "Requirement already satisfied: pickle5 in /usr/local/lib/python3.7/dist-packages (0.0.11)\n"
          ],
          "name": "stdout"
        }
      ]
    },
    {
      "cell_type": "markdown",
      "metadata": {
        "id": "K9jF0IX9bG5F"
      },
      "source": [
        "Importowanie bibliotek."
      ]
    },
    {
      "cell_type": "code",
      "metadata": {
        "id": "7v0_ySGOtOAl",
        "colab": {
          "base_uri": "https://localhost:8080/"
        },
        "outputId": "9c5e084e-413a-4ef1-c9f2-667ecd7bc80e"
      },
      "source": [
        "drive.mount('/content/gdrive')\n",
        "us8k_df = pd.read_pickle(\"/content/gdrive/MyDrive/Licencjat/us8k_df.pkl\")\n",
        "with open(\"/content/gdrive/MyDrive/Licencjat/us8k_df_augmentation.pkl\", \"rb\") as fh: \n",
        "  usk_df_augmentation = pickle.load(fh)\n",
        "\n",
        "sound_classes_short = ['WEN', 'KLAK', 'DZIE', 'PIES', 'WIER',\n",
        "                      'SIL', 'STRZ', 'MŁOT', 'SYR', 'UL']   "
      ],
      "execution_count": null,
      "outputs": [
        {
          "output_type": "stream",
          "text": [
            "Mounted at /content/gdrive\n"
          ],
          "name": "stdout"
        }
      ]
    },
    {
      "cell_type": "markdown",
      "metadata": {
        "id": "GzDVQHzvbHkd"
      },
      "source": [
        "Połaczenie z Google Drive'm oraz wczytanie plików w formacie \"pickle\" zawierających zapis spektrogramów przeskalowanych w skali melowej wraz z odpowiadającymi oznaczeniami folderów i klas."
      ]
    },
    {
      "cell_type": "markdown",
      "metadata": {
        "id": "c0b-V3lhbVHk"
      },
      "source": [
        "Budowa architektury modelu bazowego."
      ]
    },
    {
      "cell_type": "code",
      "metadata": {
        "id": "DJDZK5lWtPfQ"
      },
      "source": [
        "def init_model():\n",
        "    model1 = Sequential()\n",
        "    \n",
        "    #layer-1\n",
        "    model1.add(Conv2D(filters=24, kernel_size=5, input_shape=(128, 128, 1)))\n",
        "    model1.add(MaxPooling2D(pool_size=(4,2)))\n",
        "    model1.add(Activation(activations.relu))\n",
        "    \n",
        "    #layer-2\n",
        "    model1.add(Conv2D(filters=48, kernel_size=5))\n",
        "    model1.add(MaxPooling2D(pool_size=(4,2)))\n",
        "    model1.add(Activation(activations.relu))\n",
        "    \n",
        "    #layer-3\n",
        "    model1.add(Conv2D(filters=48, kernel_size=5))\n",
        "    model1.add(Activation(activations.relu))\n",
        "    \n",
        "    model1.add(Flatten())\n",
        "    \n",
        "    #layer-4\n",
        "    model1.add(Dropout(0.5))\n",
        "    model1.add(Dense(64, activation='relu', kernel_regularizer=regularizers.l2(1e-3)))\n",
        "\n",
        "    #layer-5\n",
        "    model1.add(Dropout(0.5))\n",
        "    model1.add(Dense(10, activation='softmax', kernel_regularizer=regularizers.l2(1e-3)))\n",
        "\n",
        "    # compile\n",
        "    model1.compile(loss='categorical_crossentropy', metrics=['accuracy'], optimizer=tf.keras.optimizers.SGD(learning_rate=0.01))\n",
        "    \n",
        "    return model1"
      ],
      "execution_count": null,
      "outputs": []
    },
    {
      "cell_type": "markdown",
      "metadata": {
        "id": "9CDF4SwnbXKV"
      },
      "source": [
        "Inicjalizacja modelu."
      ]
    },
    {
      "cell_type": "code",
      "metadata": {
        "id": "3VRuHaY2tRFA"
      },
      "source": [
        "model = init_model()\n",
        "model.summary()"
      ],
      "execution_count": null,
      "outputs": []
    },
    {
      "cell_type": "markdown",
      "metadata": {
        "id": "uw2z7MypbXpI"
      },
      "source": [
        "Funkcja dzielenia folderów na zbior walidacyjny, testowy oraz treningowy."
      ]
    },
    {
      "cell_type": "code",
      "metadata": {
        "id": "52hJVQQTtR6m"
      },
      "source": [
        "def train_test_split(fold_k, data, data_augmented, X_dim=(128, 128, 1)):\n",
        "  train_set = ['1', '2', '3', '4', '5', '6', '7', '8', '9', '10']\n",
        "  train_set.remove(fold_k)\n",
        "  val_fold = random.choice(train_set)\n",
        "  \n",
        "  X_train = data_augmented[data_augmented.folder_id != val_fold]\n",
        "  X_train = np.stack(X_train[X_train.folder_id != fold_k].melspectrogram.to_numpy())\n",
        "  X_val = np.stack(data[data.folder_id == val_fold].melspectrogram.to_numpy())\n",
        "  X_test = np.stack(data[data.folder_id == fold_k].melspectrogram.to_numpy())\n",
        "\n",
        "  y_train = data_augmented[data_augmented.folder_id != fold_k]\n",
        "  y_train = y_train[y_train.folder_id != val_fold].audio_class_id.to_numpy()\n",
        "  y_val = data[data.folder_id == val_fold].audio_class_id.to_numpy()\n",
        "  y_test = data[data.folder_id == fold_k].audio_class_id.to_numpy()\n",
        "\n",
        "  XX_train = X_train.reshape(X_train.shape[0], *X_dim)\n",
        "  XX_val = X_val.reshape(X_val.shape[0], *X_dim)\n",
        "  XX_test = X_test.reshape(X_test.shape[0], *X_dim)\n",
        "  \n",
        "  yy_train = to_categorical(y_train)\n",
        "  yy_val = to_categorical(y_val)\n",
        "  yy_test = to_categorical(y_test)\n",
        "  \n",
        "  return XX_train, XX_val, XX_test, yy_train, yy_val, yy_test"
      ],
      "execution_count": null,
      "outputs": []
    },
    {
      "cell_type": "markdown",
      "metadata": {
        "id": "H8VgnDjVbcKt"
      },
      "source": [
        "Funkcja rysująca wykres zmiany dokładności i straty w funkcji liczby epok."
      ]
    },
    {
      "cell_type": "code",
      "metadata": {
        "id": "6IkE5Ea9qEbe"
      },
      "source": [
        "def show_results(tot_history):\n",
        "    for i, history in enumerate(tot_history):\n",
        "        plt.figure(figsize=(15,5))\n",
        "\n",
        "        plt.subplot(121)\n",
        "        plt.plot(history.history['accuracy'])\n",
        "        plt.plot(history.history['val_accuracy'])\n",
        "        plt.grid(linestyle='--')\n",
        "        plt.ylabel('Dokładność')\n",
        "        plt.xlabel('Epoka')\n",
        "        plt.legend(['train', 'validation'], loc='upper left')\n",
        "        plt.title(\"Dokładność modelu na epokę\")\n",
        "\n",
        "        plt.subplot(122)\n",
        "        plt.plot(history.history['loss'])\n",
        "        plt.plot(history.history['val_loss'])\n",
        "        plt.grid(linestyle='--')\n",
        "        plt.ylabel('Strata')\n",
        "        plt.xlabel('Epoka')\n",
        "        plt.legend(['train', 'validation'], loc='upper left')\n",
        "        plt.title(\"Strata modelu na epokę\")\n",
        "            \n",
        "        plt.show()\n",
        "\n",
        "        print('\\tMaksymalna dokładność zbioru walidacyjnego: %.4f %%' % (np.max(history.history['val_accuracy']) * 100))\n",
        "        print('\\tMinimalna strata zbioru walidacyjnego: %.5f' % np.min(history.history['val_loss']))"
      ],
      "execution_count": null,
      "outputs": []
    },
    {
      "cell_type": "markdown",
      "metadata": {
        "id": "USC4K1tRbbr0"
      },
      "source": [
        "Funkcja zwracająca dokładność modelu dla danych testowych oraz macierz pomyłek dla tych danych."
      ]
    },
    {
      "cell_type": "code",
      "metadata": {
        "id": "HQsOEVnytS6j"
      },
      "source": [
        "def evaluate(model, XX_test, yy_test):\n",
        "    y_prob = model.predict(XX_test, verbose=0)\n",
        "    y_pred = np.argmax(y_prob, 1)\n",
        "    y_true = yy_test\n",
        "    y_true = np.argmax(y_true, axis=1)\n",
        "\n",
        "    score, accuracy = model.evaluate(XX_test, yy_test, batch_size=100, verbose=0)\n",
        "\n",
        "    print(\"\\nDokładność = {:.2f}\".format(accuracy))\n",
        "\n",
        "    cm = confusion_matrix(y_true, y_pred)\n",
        "    \n",
        "    return accuracy, cm"
      ],
      "execution_count": null,
      "outputs": []
    },
    {
      "cell_type": "markdown",
      "metadata": {
        "id": "HUzB0Ucsbg78"
      },
      "source": [
        "Każdy folder po kolei jest wpisywany jako folder testowy."
      ]
    },
    {
      "cell_type": "code",
      "metadata": {
        "id": "QH0ZacyltUAt"
      },
      "source": [
        "TEST_FOLDER = '1'\n",
        "\n",
        "X_train, X_val, X_test, y_train, y_val, y_test = train_test_split(TEST_FOLDER, us8k_df, usk_df_augmentation)"
      ],
      "execution_count": null,
      "outputs": []
    },
    {
      "cell_type": "code",
      "metadata": {
        "id": "GaecSwgHtVD8",
        "colab": {
          "base_uri": "https://localhost:8080/"
        },
        "outputId": "550d299c-260d-4b3b-9549-15be752e0c97"
      },
      "source": [
        "X_train.shape, y_train.shape, X_val.shape, y_val.shape, X_test.shape, y_test.shape"
      ],
      "execution_count": null,
      "outputs": [
        {
          "output_type": "execute_result",
          "data": {
            "text/plain": [
              "((28212, 128, 128, 1),\n",
              " (28212, 10),\n",
              " (806, 128, 128, 1),\n",
              " (806, 10),\n",
              " (873, 128, 128, 1),\n",
              " (873, 10))"
            ]
          },
          "metadata": {
            "tags": []
          },
          "execution_count": 9
        }
      ]
    },
    {
      "cell_type": "markdown",
      "metadata": {
        "id": "LTGF--ZeboU-"
      },
      "source": [
        "Proces trenowania."
      ]
    },
    {
      "cell_type": "code",
      "metadata": {
        "id": "OPc2yYgJtVhN"
      },
      "source": [
        "history_store = []\n",
        "\n",
        "start = datetime.now()\n",
        "    \n",
        "history = model.fit(X_train, y_train, \n",
        "                    epochs=50,\n",
        "                    batch_size=100, \n",
        "                    validation_data=(X_val, y_val),\n",
        "                    callbacks=[EarlyStopping(restore_best_weights=True, patience=15)])\n",
        "end = datetime.now()\n",
        "history_store.append(history)\n",
        "        "
      ],
      "execution_count": null,
      "outputs": []
    },
    {
      "cell_type": "markdown",
      "metadata": {
        "id": "PtxBXuUNbq6k"
      },
      "source": [
        "Wyświetlanie rysunków."
      ]
    },
    {
      "cell_type": "code",
      "metadata": {
        "id": "ZaMmjZTIZQFO"
      },
      "source": [
        "show_results(history_store)"
      ],
      "execution_count": null,
      "outputs": []
    },
    {
      "cell_type": "markdown",
      "metadata": {
        "id": "jzggzq7cbtNs"
      },
      "source": [
        "Badanie dokładności dla danych testowych oraz zwrócenie macierzy pomyłek dla danego folderu."
      ]
    },
    {
      "cell_type": "code",
      "metadata": {
        "id": "NLc3SQ4ttXgk",
        "colab": {
          "base_uri": "https://localhost:8080/"
        },
        "outputId": "fe54d60b-6022-492f-deed-95a60efe22a6"
      },
      "source": [
        "accuracy, cm = evaluate(model, X_test, y_test)"
      ],
      "execution_count": null,
      "outputs": [
        {
          "output_type": "stream",
          "text": [
            "\n",
            "Dokładność = 0.64\n"
          ],
          "name": "stdout"
        }
      ]
    },
    {
      "cell_type": "markdown",
      "metadata": {
        "id": "VAcIcAG9b67c"
      },
      "source": [
        "Inicjalizowana jest zmienna \"CM\" oznaczająca macierz pomyłek. Zważając na to, że proces trenowania trwa chwilę, a trzeba go powtórzyć co najmniej 10 razy, macierz po zaktualizowaniu można zapisać, a następnie wczytać. Wówczas wykonywana jest jedynie część z następnych operacji - po zwróceniu macierzy pomyłek dla danego folderu, zapisanego w \"cm\" nie inicjalizujemy znowu \"CM\", a jedynie aktualizujemy jego wartości, dodając te z \"cm\"."
      ]
    },
    {
      "cell_type": "code",
      "metadata": {
        "id": "7h43ScwetYbH"
      },
      "source": [
        "CM = 0"
      ],
      "execution_count": null,
      "outputs": []
    },
    {
      "cell_type": "code",
      "metadata": {
        "id": "gv97y4HrtZZL"
      },
      "source": [
        "cm"
      ],
      "execution_count": null,
      "outputs": []
    },
    {
      "cell_type": "code",
      "metadata": {
        "id": "kCCdjlsMtba3"
      },
      "source": [
        "CM = CM + cm\n",
        "save('confusion_matrix.npy', CM)"
      ],
      "execution_count": null,
      "outputs": []
    },
    {
      "cell_type": "code",
      "metadata": {
        "id": "eh6WD32i5-nB"
      },
      "source": [
        "CM = load('confusion_matrix.npy')"
      ],
      "execution_count": null,
      "outputs": []
    },
    {
      "cell_type": "code",
      "metadata": {
        "id": "vw-MaLDNtenu"
      },
      "source": [
        "df_cm = pd.DataFrame(CM, sound_classes_short, sound_classes_short)\n",
        "sn.set(font_scale=0.8)\n",
        "svm = sn.heatmap(df_cm, annot=True,annot_kws={\"size\": 10}, fmt=\".0f\", cbar_kws={'label': 'Liczba zaklasyfikowanych próbek'})\n",
        "plt.xlabel('Klasa prognozowana')\n",
        "plt.ylabel('Klasa rzeczywista')\n",
        "plt.figure(figsize = (20,14))\n",
        "figure = svm.get_figure()    \n",
        "figure.savefig('svm_conf.png', dpi=400)\n",
        "plt.show()"
      ],
      "execution_count": null,
      "outputs": []
    },
    {
      "cell_type": "markdown",
      "metadata": {
        "id": "iApPcwx0b9U0"
      },
      "source": [
        "Wczytywanie macierzy pomyłek dla modelu bazowego"
      ]
    },
    {
      "cell_type": "code",
      "metadata": {
        "id": "nqMLvvXfTroT"
      },
      "source": [
        "base_model_CM = load('confusion_matrix_standard.npy')"
      ],
      "execution_count": null,
      "outputs": []
    },
    {
      "cell_type": "markdown",
      "metadata": {
        "id": "o_NH5YE2cB-0"
      },
      "source": [
        "Różnica w macierzach pomyłek modelu bazowego z syntentycznymi danymi i modelu bazowego."
      ]
    },
    {
      "cell_type": "code",
      "metadata": {
        "id": "kboaNdL9UQ7c"
      },
      "source": [
        "new_matrix = np.subtract(CM, base_model_CM)"
      ],
      "execution_count": null,
      "outputs": []
    },
    {
      "cell_type": "markdown",
      "metadata": {
        "id": "HfWRgwjscJXc"
      },
      "source": [
        "Wyświetlnie różnicy macierzy pomyłek."
      ]
    },
    {
      "cell_type": "code",
      "metadata": {
        "id": "fzUIJ71DUxhD"
      },
      "source": [
        "df_cm = pd.DataFrame(new_matrix,sound_classes_short, sound_classes_short)\n",
        "sn.set(font_scale=0.8)\n",
        "svm = sn.heatmap(df_cm, annot=True,annot_kws={\"size\": 10}, fmt=\".0f\", cbar_kws={'label': 'Różnica w liczbie zaklasyfikowanych próbek'})\n",
        "plt.xlabel('Klasa prognozowana')\n",
        "plt.ylabel('Klasa rzeczywista')\n",
        "plt.figure(figsize = (20,14))\n",
        "figure = svm.get_figure()    \n",
        "figure.savefig('svm_conf.png', dpi=400)\n",
        "plt.show()"
      ],
      "execution_count": null,
      "outputs": []
    },
    {
      "cell_type": "markdown",
      "metadata": {
        "id": "Novn7KLYcMe9"
      },
      "source": [
        "Wyświetlenie wykresu pudełkowego dla wyników uzyskanych podczas trenowania wszystkich modeli."
      ]
    },
    {
      "cell_type": "code",
      "metadata": {
        "colab": {
          "base_uri": "https://localhost:8080/",
          "height": 818
        },
        "id": "66InP8XboGKC",
        "outputId": "cdd202ef-e1b2-46d6-b20d-df0d416212ad"
      },
      "source": [
        "df_new = pd.DataFrame()\n",
        "df_new['Bazowy'] = [0.55, 0.61, 0.54, 0.48, 0.64, 0.53, 0.53, 0.51, 0.63, 0.6]\n",
        "df_new['Ulepszony'] = [0.7, 0.69, 0.66, 0.69, 0.69, 0.7, 0.67, 0.67, 0.74, 0.73]\n",
        "df_new['Bazowy z syntetycznymi danymi'] = [0.68, 0.65, 0.68, 0.65, 0.68, 0.68, 0.69, 0.64, 0.7, 0.68]\n",
        "\n",
        "df_box = pd.DataFrame(df_new)\n",
        "\n",
        "boxplot = df_box.boxplot(figsize=(20, 14),  \n",
        "                         medianprops={'linestyle': '-', 'linewidth': 5}, fontsize=25)\n",
        "boxplot.set_ylabel('Dokładność', fontsize=25, labelpad=25)\n",
        "boxplot.set_xlabel('Model', fontsize=25, labelpad=30)\n",
        "boxplot.set_title('Dokładność wzgledem modeli', fontsize=25, pad=25)\n",
        "figure = boxplot.get_figure()    \n",
        "figure.savefig('box_plot.png', dpi=400)"
      ],
      "execution_count": null,
      "outputs": [
        {
          "output_type": "display_data",
          "data": {
            "image/png": "[encoded data removed]",
            "text/plain": [
              "<Figure size 1440x1008 with 1 Axes>"
            ]
          },
          "metadata": {
            "tags": []
          }
        }
      ]
    },
    {
      "cell_type": "markdown",
      "metadata": {
        "id": "rh6UFeSUcYRU"
      },
      "source": [
        "Wyświetlenie median i odchyleń standardowych dla poszczególnych modeli."
      ]
    },
    {
      "cell_type": "code",
      "metadata": {
        "colab": {
          "base_uri": "https://localhost:8080/"
        },
        "id": "17mGq6dH8n8r",
        "outputId": "55299cc7-3c70-4eca-e237-d92007400706"
      },
      "source": [
        "median_base = np.median(df_new['Bazowy'])\n",
        "median_impr = np.median(df_new['Ulepszony'])\n",
        "median_aug = np.median(df_new['Bazowy z syntetycznymi danymi'])\n",
        "\n",
        "median_base, median_impr, median_aug"
      ],
      "execution_count": null,
      "outputs": [
        {
          "output_type": "execute_result",
          "data": {
            "text/plain": [
              "(0.545, 0.69, 0.68)"
            ]
          },
          "metadata": {
            "tags": []
          },
          "execution_count": 28
        }
      ]
    },
    {
      "cell_type": "code",
      "metadata": {
        "colab": {
          "base_uri": "https://localhost:8080/"
        },
        "id": "4Y72t15CcpWE",
        "outputId": "703e2f09-e2fe-4acd-8c9a-0c73c03d7d68"
      },
      "source": [
        "std_dev_base = np.std(df_new['Bazowy'])\n",
        "std_dev_impr = np.std(df_new['Ulepszony'])\n",
        "std_dev_aug = np.std(df_new['Bazowy z syntetycznymi danymi'])\n",
        "\n",
        "std_dev_base, std_dev_impr, std_dev_aug"
      ],
      "execution_count": null,
      "outputs": [
        {
          "output_type": "execute_result",
          "data": {
            "text/plain": [
              "(0.0515363949069005, 0.02416609194718913, 0.018466185312619378)"
            ]
          },
          "metadata": {
            "tags": []
          },
          "execution_count": 29
        }
      ]
    }
  ]
}